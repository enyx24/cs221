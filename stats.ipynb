{
 "cells": [
  {
   "cell_type": "markdown",
   "id": "bc3c112e",
   "metadata": {},
   "source": [
    "# Data set gộp từ 2 bộ victsd và vihsd"
   ]
  },
  {
   "cell_type": "code",
   "execution_count": 20,
   "id": "055ed5b9",
   "metadata": {},
   "outputs": [
    {
     "name": "stdout",
     "output_type": "stream",
     "text": [
      "Null value summary:\n",
      "text    2\n",
      "dtype: int64\n"
     ]
    }
   ],
   "source": [
    "import pandas as pd\n",
    "import matplotlib.pyplot as plt\n",
    "\n",
    "df = pd.read_csv(\"data/merged.csv\")\n",
    "null_counts = df.isnull().sum()\n",
    "print(\"Null value summary:\")\n",
    "print(null_counts[null_counts > 0] if null_counts.any() else \"No nulls found\")\n",
    "df.dropna(inplace=True)"
   ]
  },
  {
   "cell_type": "code",
   "execution_count": 21,
   "id": "452c07ab",
   "metadata": {},
   "outputs": [
    {
     "name": "stdout",
     "output_type": "stream",
     "text": [
      "Ratio:\n",
      "origin\n",
      "Dataset    0.193048\n",
      "vihsd      0.209240\n",
      "victsd     0.145064\n",
      "dtype: float64\n"
     ]
    },
    {
     "data": {
      "image/png": "[encoded data removed]",
      "text/plain": [
       "<Figure size 640x480 with 1 Axes>"
      ]
     },
     "metadata": {},
     "output_type": "display_data"
    }
   ],
   "source": [
    "counts_df = df.groupby([\"new_label\", \"origin\"]).size().unstack(fill_value=0)\n",
    "counts_df[\"Dataset\"] = df.groupby(\"new_label\").size()\n",
    "counts_df = counts_df[[\"Dataset\", \"vihsd\", \"victsd\"]]\n",
    "\n",
    "groups = [\"Dataset\", \"vihsd\", \"victsd\"]\n",
    "counts = [counts_df.loc[0, groups], counts_df.loc[1, groups]]\n",
    "\n",
    "rate = counts[1] / counts[0]\n",
    "print(\"Ratio:\")\n",
    "print(rate)\n",
    "\n",
    "x = range(len(groups))\n",
    "bar_width = 0.35\n",
    "\n",
    "plt.bar(x, counts[0], width=bar_width, label=\"0\")\n",
    "plt.bar([i + bar_width for i in x], counts[1], width=bar_width, label=\"1\")\n",
    "\n",
    "plt.xlabel(\"Dataset\")\n",
    "plt.ylabel(\"Count\")\n",
    "plt.title(\"Distribution\")\n",
    "plt.xticks([i + bar_width / 2 for i in x], groups)\n",
    "plt.legend()\n",
    "plt.tight_layout()\n",
    "plt.show()\n"
   ]
  },
  {
   "cell_type": "code",
   "execution_count": 22,
   "id": "6442baca",
   "metadata": {},
   "outputs": [
    {
     "name": "stdout",
     "output_type": "stream",
     "text": [
      "2.5.1+cu118\n"
     ]
    },
    {
     "name": "stderr",
     "output_type": "stream",
     "text": [
      "Some weights of RobertaForSequenceClassification were not initialized from the model checkpoint at vinai/phobert-base-v2 and are newly initialized: ['classifier.dense.bias', 'classifier.dense.weight', 'classifier.out_proj.bias', 'classifier.out_proj.weight']\n",
      "You should probably TRAIN this model on a down-stream task to be able to use it for predictions and inference.\n",
      "C:\\Users\\ASUS\\AppData\\Local\\Temp\\ipykernel_50332\\3199790347.py:25: FutureWarning: You are using `torch.load` with `weights_only=False` (the current default value), which uses the default pickle module implicitly. It is possible to construct malicious pickle data which will execute arbitrary code during unpickling (See https://github.com/pytorch/pytorch/blob/main/SECURITY.md#untrusted-models for more details). In a future release, the default value for `weights_only` will be flipped to `True`. This limits the functions that could be executed during unpickling. Arbitrary objects will no longer be allowed to be loaded via this mode unless they are explicitly allowlisted by the user via `torch.serialization.add_safe_globals`. We recommend you start setting `weights_only=True` for any use case where you don't have full control of the loaded file. Please open an issue on GitHub for any issues related to this experimental feature.\n",
      "  model.load_state_dict(torch.load(MODEL_PATH))\n"
     ]
    },
    {
     "name": "stdout",
     "output_type": "stream",
     "text": [
      "              precision    recall  f1-score   support\n",
      "\n",
      "           0     0.8845    0.9450    0.9138      7388\n",
      "           1     0.5587    0.3604    0.4382      1426\n",
      "\n",
      "    accuracy                         0.8505      8814\n",
      "   macro avg     0.7216    0.6527    0.6760      8814\n",
      "weighted avg     0.8318    0.8505    0.8368      8814\n",
      "\n"
     ]
    }
   ],
   "source": [
    "import torch\n",
    "import pandas as pd\n",
    "from transformers import AutoTokenizer, AutoModelForSequenceClassification\n",
    "from sklearn.metrics import classification_report\n",
    "from torch.utils.data import Dataset, DataLoader\n",
    "from utils.preprocess import preprocess_text\n",
    "\n",
    "print(torch.__version__)\n",
    "\n",
    "# Cấu hình\n",
    "MODEL_NAME = \"vinai/phobert-base-v2\"\n",
    "MODEL_PATH = \"models/best_phobert_fullset.pt\"\n",
    "BATCH_SIZE = 4\n",
    "MAX_LEN = 256\n",
    "\n",
    "# Thiết bị\n",
    "device = torch.device(\"cuda\" if torch.cuda.is_available() else \"cpu\")\n",
    "\n",
    "# Load model & tokenizer\n",
    "tokenizer = AutoTokenizer.from_pretrained(MODEL_NAME)\n",
    "model = AutoModelForSequenceClassification.from_pretrained(\n",
    "    MODEL_NAME,\n",
    "    num_labels=2\n",
    ")\n",
    "model.load_state_dict(torch.load(MODEL_PATH))\n",
    "model.to(device)\n",
    "model.eval()\n",
    "\n",
    "# Dataset\n",
    "class SentimentDataset(Dataset):\n",
    "    def __init__(self, df):\n",
    "        self.texts = [preprocess_text(t) for t in df['text']]\n",
    "        self.labels = df['new_label'].tolist()\n",
    "\n",
    "    def __len__(self):\n",
    "        return len(self.labels)\n",
    "\n",
    "    def __getitem__(self, idx):\n",
    "        encoding = tokenizer(\n",
    "            self.texts[idx],\n",
    "            padding='max_length',\n",
    "            truncation=True,\n",
    "            max_length=MAX_LEN,\n",
    "            return_tensors=\"pt\"\n",
    "        )\n",
    "        item = {k: v.squeeze(0) for k, v in encoding.items()}\n",
    "        item['labels'] = torch.tensor(self.labels[idx], dtype=torch.long)\n",
    "        return item\n",
    "\n",
    "# Load test.csv\n",
    "df = pd.read_csv(\"data/full/test.csv\").dropna(subset=[\"text\", \"new_label\"])\n",
    "test_dataset = SentimentDataset(df)\n",
    "test_loader = DataLoader(test_dataset, batch_size=BATCH_SIZE)\n",
    "\n",
    "# Dự đoán\n",
    "all_preds, all_labels = [], []\n",
    "with torch.no_grad():\n",
    "    for batch in test_loader:\n",
    "        batch = {k: v.to(device) for k, v in batch.items()}\n",
    "        outputs = model(**batch)\n",
    "        logits = outputs.logits\n",
    "        preds = torch.argmax(logits, dim=1)\n",
    "\n",
    "        all_preds.extend(preds.cpu().numpy())\n",
    "        all_labels.extend(batch[\"labels\"].cpu().numpy())\n",
    "\n",
    "# In kết quả\n",
    "print(classification_report(all_labels, all_preds, digits=4))"
   ]
  },
  {
   "cell_type": "markdown",
   "id": "6ce65a41",
   "metadata": {},
   "source": [
    "# Cân bằng lại dữ liệu"
   ]
  },
  {
   "cell_type": "markdown",
   "id": "4159bd7c",
   "metadata": {},
   "source": [
    "## Oversampling"
   ]
  },
  {
   "cell_type": "code",
   "execution_count": 23,
   "id": "8d4388ea",
   "metadata": {},
   "outputs": [
    {
     "name": "stdout",
     "output_type": "stream",
     "text": [
      "Ratio:\n",
      "origin\n",
      "Dataset       0.507333\n",
      "vihsd         0.428148\n",
      "victsd        0.300444\n",
      "gen-vihsd          inf\n",
      "gen-victsd         inf\n",
      "dtype: float64\n"
     ]
    },
    {
     "data": {
      "image/png": "[encoded data removed]",
      "text/plain": [
       "<Figure size 640x480 with 1 Axes>"
      ]
     },
     "metadata": {},
     "output_type": "display_data"
    }
   ],
   "source": [
    "df = pd.read_csv(\"data/balanced.csv\")\n",
    "\n",
    "counts_df = df.groupby([\"new_label\", \"origin\"]).size().unstack(fill_value=0)\n",
    "counts_df[\"Dataset\"] = df.groupby(\"new_label\").size()\n",
    "counts_df = counts_df[[\"Dataset\", \"vihsd\", \"victsd\", \"gen-vihsd\", \"gen-victsd\"]]\n",
    "\n",
    "groups = [\"Dataset\", \"vihsd\", \"victsd\", \"gen-vihsd\", \"gen-victsd\"]\n",
    "counts = [counts_df.loc[0, groups], counts_df.loc[1, groups]]\n",
    "\n",
    "rate = counts[1] / counts[0]\n",
    "print(\"Ratio:\")\n",
    "print(rate)\n",
    "\n",
    "x = range(len(groups))\n",
    "bar_width = 0.35\n",
    "\n",
    "plt.bar(x, counts[0], width=bar_width, label=\"0\")\n",
    "plt.bar([i + bar_width for i in x], counts[1], width=bar_width, label=\"1\")\n",
    "\n",
    "plt.xlabel(\"Dataset\")\n",
    "plt.ylabel(\"Count\")\n",
    "plt.title(\"Distribution\")\n",
    "plt.xticks([i + bar_width / 2 for i in x], groups)\n",
    "plt.legend()\n",
    "plt.tight_layout()\n",
    "plt.show()"
   ]
  },
  {
   "cell_type": "code",
   "execution_count": 24,
   "id": "8daf46e9",
   "metadata": {},
   "outputs": [
    {
     "name": "stdout",
     "output_type": "stream",
     "text": [
      "2.5.1+cu118\n"
     ]
    },
    {
     "name": "stderr",
     "output_type": "stream",
     "text": [
      "Some weights of RobertaForSequenceClassification were not initialized from the model checkpoint at vinai/phobert-base-v2 and are newly initialized: ['classifier.dense.bias', 'classifier.dense.weight', 'classifier.out_proj.bias', 'classifier.out_proj.weight']\n",
      "You should probably TRAIN this model on a down-stream task to be able to use it for predictions and inference.\n",
      "C:\\Users\\ASUS\\AppData\\Local\\Temp\\ipykernel_50332\\791998596.py:25: FutureWarning: You are using `torch.load` with `weights_only=False` (the current default value), which uses the default pickle module implicitly. It is possible to construct malicious pickle data which will execute arbitrary code during unpickling (See https://github.com/pytorch/pytorch/blob/main/SECURITY.md#untrusted-models for more details). In a future release, the default value for `weights_only` will be flipped to `True`. This limits the functions that could be executed during unpickling. Arbitrary objects will no longer be allowed to be loaded via this mode unless they are explicitly allowlisted by the user via `torch.serialization.add_safe_globals`. We recommend you start setting `weights_only=True` for any use case where you don't have full control of the loaded file. Please open an issue on GitHub for any issues related to this experimental feature.\n",
      "  model.load_state_dict(torch.load(MODEL_PATH))\n"
     ]
    },
    {
     "name": "stdout",
     "output_type": "stream",
     "text": [
      "              precision    recall  f1-score   support\n",
      "\n",
      "           0     0.8721    0.8883    0.8801      3600\n",
      "           1     0.7716    0.7433    0.7572      1827\n",
      "\n",
      "    accuracy                         0.8395      5427\n",
      "   macro avg     0.8218    0.8158    0.8187      5427\n",
      "weighted avg     0.8383    0.8395    0.8387      5427\n",
      "\n"
     ]
    }
   ],
   "source": [
    "import torch\n",
    "import pandas as pd\n",
    "from transformers import AutoTokenizer, AutoModelForSequenceClassification\n",
    "from sklearn.metrics import classification_report\n",
    "from torch.utils.data import Dataset, DataLoader\n",
    "from utils.preprocess import preprocess_text\n",
    "\n",
    "print(torch.__version__)\n",
    "\n",
    "# Cấu hình\n",
    "MODEL_NAME = \"vinai/phobert-base-v2\"\n",
    "MODEL_PATH = \"models/best_phobert_oversampling.pt\"\n",
    "BATCH_SIZE = 4\n",
    "MAX_LEN = 256\n",
    "\n",
    "# Thiết bị\n",
    "device = torch.device(\"cuda\" if torch.cuda.is_available() else \"cpu\")\n",
    "\n",
    "# Load model & tokenizer\n",
    "tokenizer = AutoTokenizer.from_pretrained(MODEL_NAME)\n",
    "model = AutoModelForSequenceClassification.from_pretrained(\n",
    "    MODEL_NAME,\n",
    "    num_labels=2\n",
    ")\n",
    "model.load_state_dict(torch.load(MODEL_PATH))\n",
    "model.to(device)\n",
    "model.eval()\n",
    "\n",
    "# Dataset\n",
    "class SentimentDataset(Dataset):\n",
    "    def __init__(self, df):\n",
    "        self.texts = [preprocess_text(t) for t in df['text']]\n",
    "        self.labels = df['new_label'].tolist()\n",
    "\n",
    "    def __len__(self):\n",
    "        return len(self.labels)\n",
    "\n",
    "    def __getitem__(self, idx):\n",
    "        encoding = tokenizer(\n",
    "            self.texts[idx],\n",
    "            padding='max_length',\n",
    "            truncation=True,\n",
    "            max_length=MAX_LEN,\n",
    "            return_tensors=\"pt\"\n",
    "        )\n",
    "        item = {k: v.squeeze(0) for k, v in encoding.items()}\n",
    "        item['labels'] = torch.tensor(self.labels[idx], dtype=torch.long)\n",
    "        return item\n",
    "\n",
    "# Load test.csv\n",
    "df = pd.read_csv(\"data/oversampling/test.csv\").dropna(subset=[\"text\", \"new_label\"])\n",
    "test_dataset = SentimentDataset(df)\n",
    "test_loader = DataLoader(test_dataset, batch_size=BATCH_SIZE)\n",
    "\n",
    "# Dự đoán\n",
    "all_preds, all_labels = [], []\n",
    "with torch.no_grad():\n",
    "    for batch in test_loader:\n",
    "        batch = {k: v.to(device) for k, v in batch.items()}\n",
    "        outputs = model(**batch)\n",
    "        logits = outputs.logits\n",
    "        preds = torch.argmax(logits, dim=1)\n",
    "\n",
    "        all_preds.extend(preds.cpu().numpy())\n",
    "        all_labels.extend(batch[\"labels\"].cpu().numpy())\n",
    "\n",
    "# In kết quả\n",
    "print(classification_report(all_labels, all_preds, digits=4))"
   ]
  },
  {
   "cell_type": "markdown",
   "id": "d64a9bea",
   "metadata": {},
   "source": [
    "=> cải thiện đáng kể f1"
   ]
  },
  {
   "cell_type": "code",
   "execution_count": 25,
   "id": "8bcbd403",
   "metadata": {},
   "outputs": [
    {
     "name": "stderr",
     "output_type": "stream",
     "text": [
      "Applying preprocess_text to Train data: 100%|██████████| 18991/18991 [00:33<00:00, 563.86it/s]\n",
      "Applying preprocess_text to Validation data: 100%|██████████| 2713/2713 [00:04<00:00, 579.56it/s]\n",
      "Applying preprocess_text to Test data: 100%|██████████| 5427/5427 [00:09<00:00, 602.53it/s]\n"
     ]
    },
    {
     "name": "stdout",
     "output_type": "stream",
     "text": [
      "Training model...\n",
      "\n"
     ]
    },
    {
     "name": "stderr",
     "output_type": "stream",
     "text": [
      "Training Epochs:  20%|██        | 1/5 [00:21<01:24, 21.18s/epoch]"
     ]
    },
    {
     "name": "stdout",
     "output_type": "stream",
     "text": [
      "Epoch 1 - Validation F1 Score: 0.7730\n"
     ]
    },
    {
     "name": "stderr",
     "output_type": "stream",
     "text": [
      "Training Epochs:  40%|████      | 2/5 [00:44<01:07, 22.61s/epoch]"
     ]
    },
    {
     "name": "stdout",
     "output_type": "stream",
     "text": [
      "Epoch 2 - Validation F1 Score: 0.7730\n"
     ]
    },
    {
     "name": "stderr",
     "output_type": "stream",
     "text": [
      "Training Epochs:  60%|██████    | 3/5 [01:05<00:43, 21.88s/epoch]"
     ]
    },
    {
     "name": "stdout",
     "output_type": "stream",
     "text": [
      "Epoch 3 - Validation F1 Score: 0.7730\n"
     ]
    },
    {
     "name": "stderr",
     "output_type": "stream",
     "text": [
      "Training Epochs:  80%|████████  | 4/5 [01:26<00:21, 21.50s/epoch]"
     ]
    },
    {
     "name": "stdout",
     "output_type": "stream",
     "text": [
      "Epoch 4 - Validation F1 Score: 0.7730\n"
     ]
    },
    {
     "name": "stderr",
     "output_type": "stream",
     "text": [
      "Training Epochs: 100%|██████████| 5/5 [01:47<00:00, 21.48s/epoch]"
     ]
    },
    {
     "name": "stdout",
     "output_type": "stream",
     "text": [
      "Epoch 5 - Validation F1 Score: 0.7730\n",
      "Model saved to models/svm_model.pkl\n"
     ]
    },
    {
     "name": "stderr",
     "output_type": "stream",
     "text": [
      "\n"
     ]
    },
    {
     "name": "stdout",
     "output_type": "stream",
     "text": [
      "\n",
      "Test Classification Report:\n",
      "              precision    recall  f1-score   support\n",
      "\n",
      "           0     0.8675    0.8222    0.8443      3600\n",
      "           1     0.6824    0.7526    0.7158      1827\n",
      "\n",
      "    accuracy                         0.7988      5427\n",
      "   macro avg     0.7750    0.7874    0.7800      5427\n",
      "weighted avg     0.8052    0.7988    0.8010      5427\n",
      "\n"
     ]
    }
   ],
   "source": [
    "import pandas as pd\n",
    "from sklearn.feature_extraction.text import TfidfVectorizer\n",
    "from sklearn.svm import SVC\n",
    "from sklearn.metrics import classification_report, f1_score\n",
    "from sklearn.model_selection import train_test_split\n",
    "from tqdm import tqdm  # Để hiển thị tiến độ trong quá trình huấn luyện\n",
    "import joblib  # Để lưu và tải mô hình\n",
    "\n",
    "# Đọc dữ liệu\n",
    "train_df = pd.read_csv(\"data/oversampling/train.csv\")\n",
    "val_df = pd.read_csv(\"data/oversampling/val.csv\")\n",
    "test_df = pd.read_csv(\"data/oversampling/test.csv\")\n",
    "\n",
    "# Áp dụng tiền xử lý cho dữ liệu và theo dõi tiến độ\n",
    "tqdm.pandas(desc=\"Applying preprocess_text to Train data\")\n",
    "train_df['text'] = train_df['text'].progress_apply(lambda x: preprocess_text(x))  # Áp dụng tiền xử lý cho dữ liệu train\n",
    "\n",
    "tqdm.pandas(desc=\"Applying preprocess_text to Validation data\")\n",
    "val_df['text'] = val_df['text'].progress_apply(lambda x: preprocess_text(x))      # Áp dụng tiền xử lý cho dữ liệu validation\n",
    "\n",
    "tqdm.pandas(desc=\"Applying preprocess_text to Test data\")\n",
    "test_df['text'] = test_df['text'].progress_apply(lambda x: preprocess_text(x))    # Áp dụng tiền xử lý cho dữ liệu test\n",
    "\n",
    "# Chia dữ liệu train và validation\n",
    "X_train = train_df['text']\n",
    "y_train = train_df['new_label']\n",
    "X_val = val_df['text']\n",
    "y_val = val_df['new_label']\n",
    "X_test = test_df['text']\n",
    "y_test = test_df['new_label']\n",
    "\n",
    "# Biến đổi văn bản thành vector sử dụng TfidfVectorizer\n",
    "vectorizer = TfidfVectorizer(max_features=5000, ngram_range=(1, 2))  # Tạo vector từ 1-gram và 2-gram\n",
    "\n",
    "X_train_tfidf = vectorizer.fit_transform(X_train)\n",
    "X_val_tfidf = vectorizer.transform(X_val)\n",
    "X_test_tfidf = vectorizer.transform(X_test)\n",
    "\n",
    "# Khởi tạo mô hình SVM\n",
    "svm_model = SVC(kernel='linear', class_weight='balanced')  # class_weight='balanced' giúp cân bằng giữa các lớp\n",
    "\n",
    "# Huấn luyện mô hình SVM và hiển thị tiến độ\n",
    "print(\"Training model...\\n\")\n",
    "for epoch in tqdm(range(5), desc=\"Training Epochs\", unit=\"epoch\"):\n",
    "    svm_model.fit(X_train_tfidf, y_train)\n",
    "\n",
    "    # Dự đoán trên tập validation\n",
    "    val_preds = svm_model.predict(X_val_tfidf)\n",
    "    val_f1 = f1_score(y_val, val_preds, average='macro')\n",
    "    print(f\"Epoch {epoch + 1} - Validation F1 Score: {val_f1:.4f}\")\n",
    "\n",
    "# Lưu mô hình sau khi huấn luyện\n",
    "model_filename = \"models/svm_model.pkl\"\n",
    "joblib.dump(svm_model, model_filename)\n",
    "print(f\"Model saved to {model_filename}\")\n",
    "\n",
    "# Dự đoán trên tập test\n",
    "test_preds = svm_model.predict(X_test_tfidf)\n",
    "\n",
    "# Đánh giá kết quả\n",
    "print(\"\\nTest Classification Report:\")\n",
    "print(classification_report(y_test, test_preds, digits=4))"
   ]
  },
  {
   "cell_type": "code",
   "execution_count": 26,
   "id": "7ace4a48",
   "metadata": {},
   "outputs": [
    {
     "name": "stdout",
     "output_type": "stream",
     "text": [
      "              precision    recall  f1-score   support\n",
      "\n",
      "           0     0.8330    0.8897    0.8604      3600\n",
      "           1     0.7491    0.6486    0.6952      1827\n",
      "\n",
      "    accuracy                         0.8085      5427\n",
      "   macro avg     0.7910    0.7692    0.7778      5427\n",
      "weighted avg     0.8048    0.8085    0.8048      5427\n",
      "\n"
     ]
    }
   ],
   "source": [
    "from nb import train, test\n",
    "\n",
    "train_df = pd.read_csv(\"data/oversampling/train.csv\")\n",
    "test_df = pd.read_csv(\"data/oversampling/test.csv\")\n",
    "\n",
    "# Huấn luyện mô hình\n",
    "model, vectorizer = train(train_df)\n",
    "\n",
    "# Dự đoán trên tập kiểm tra\n",
    "preds, labels = test(model, vectorizer, test_df)"
   ]
  },
  {
   "cell_type": "markdown",
   "id": "3149c306",
   "metadata": {},
   "source": [
    "## Augmentation (nlpaug)"
   ]
  },
  {
   "cell_type": "code",
   "execution_count": 27,
   "id": "f93112ed",
   "metadata": {},
   "outputs": [
    {
     "name": "stdout",
     "output_type": "stream",
     "text": [
      "Ratio:\n",
      "origin\n",
      "Dataset       0.507333\n",
      "vihsd         0.428148\n",
      "victsd        0.300444\n",
      "gen-vihsd          inf\n",
      "gen-victsd         inf\n",
      "dtype: float64\n"
     ]
    },
    {
     "data": {
      "image/png": "[encoded data removed]",
      "text/plain": [
       "<Figure size 640x480 with 1 Axes>"
      ]
     },
     "metadata": {},
     "output_type": "display_data"
    }
   ],
   "source": [
    "df = pd.read_csv(\"data/balanced.csv\")\n",
    "\n",
    "counts_df = df.groupby([\"new_label\", \"origin\"]).size().unstack(fill_value=0)\n",
    "counts_df[\"Dataset\"] = df.groupby(\"new_label\").size()\n",
    "counts_df = counts_df[[\"Dataset\", \"vihsd\", \"victsd\", \"gen-vihsd\", \"gen-victsd\"]]\n",
    "\n",
    "groups = [\"Dataset\", \"vihsd\", \"victsd\", \"gen-vihsd\", \"gen-victsd\"]\n",
    "counts = [counts_df.loc[0, groups], counts_df.loc[1, groups]]\n",
    "\n",
    "rate = counts[1] / counts[0]\n",
    "print(\"Ratio:\")\n",
    "print(rate)\n",
    "\n",
    "x = range(len(groups))\n",
    "bar_width = 0.35\n",
    "\n",
    "plt.bar(x, counts[0], width=bar_width, label=\"0\")\n",
    "plt.bar([i + bar_width for i in x], counts[1], width=bar_width, label=\"1\")\n",
    "\n",
    "plt.xlabel(\"Dataset\")\n",
    "plt.ylabel(\"Count\")\n",
    "plt.title(\"Distribution\")\n",
    "plt.xticks([i + bar_width / 2 for i in x], groups)\n",
    "plt.legend()\n",
    "plt.tight_layout()\n",
    "plt.show()"
   ]
  },
  {
   "cell_type": "code",
   "execution_count": 28,
   "id": "ec2172f0",
   "metadata": {},
   "outputs": [
    {
     "name": "stdout",
     "output_type": "stream",
     "text": [
      "2.5.1+cu118\n"
     ]
    },
    {
     "name": "stderr",
     "output_type": "stream",
     "text": [
      "Some weights of RobertaForSequenceClassification were not initialized from the model checkpoint at vinai/phobert-base-v2 and are newly initialized: ['classifier.dense.bias', 'classifier.dense.weight', 'classifier.out_proj.bias', 'classifier.out_proj.weight']\n",
      "You should probably TRAIN this model on a down-stream task to be able to use it for predictions and inference.\n",
      "C:\\Users\\ASUS\\AppData\\Local\\Temp\\ipykernel_50332\\2471809842.py:25: FutureWarning: You are using `torch.load` with `weights_only=False` (the current default value), which uses the default pickle module implicitly. It is possible to construct malicious pickle data which will execute arbitrary code during unpickling (See https://github.com/pytorch/pytorch/blob/main/SECURITY.md#untrusted-models for more details). In a future release, the default value for `weights_only` will be flipped to `True`. This limits the functions that could be executed during unpickling. Arbitrary objects will no longer be allowed to be loaded via this mode unless they are explicitly allowlisted by the user via `torch.serialization.add_safe_globals`. We recommend you start setting `weights_only=True` for any use case where you don't have full control of the loaded file. Please open an issue on GitHub for any issues related to this experimental feature.\n",
      "  model.load_state_dict(torch.load(MODEL_PATH))\n"
     ]
    },
    {
     "name": "stdout",
     "output_type": "stream",
     "text": [
      "              precision    recall  f1-score   support\n",
      "\n",
      "           0     0.8232    0.8228    0.8230      3600\n",
      "           1     0.6512    0.6519    0.6515      1827\n",
      "\n",
      "    accuracy                         0.7652      5427\n",
      "   macro avg     0.7372    0.7373    0.7373      5427\n",
      "weighted avg     0.7653    0.7652    0.7653      5427\n",
      "\n"
     ]
    }
   ],
   "source": [
    "import torch\n",
    "import pandas as pd\n",
    "from transformers import AutoTokenizer, AutoModelForSequenceClassification\n",
    "from sklearn.metrics import classification_report\n",
    "from torch.utils.data import Dataset, DataLoader\n",
    "from utils.preprocess import preprocess_text\n",
    "\n",
    "print(torch.__version__)\n",
    "\n",
    "# Cấu hình\n",
    "MODEL_NAME = \"vinai/phobert-base-v2\"\n",
    "MODEL_PATH = \"models/best_phobert_aug.pt\"\n",
    "BATCH_SIZE = 4\n",
    "MAX_LEN = 256\n",
    "\n",
    "# Thiết bị\n",
    "device = torch.device(\"cuda\" if torch.cuda.is_available() else \"cpu\")\n",
    "\n",
    "# Load model & tokenizer\n",
    "tokenizer = AutoTokenizer.from_pretrained(MODEL_NAME)\n",
    "model = AutoModelForSequenceClassification.from_pretrained(\n",
    "    MODEL_NAME,\n",
    "    num_labels=2\n",
    ")\n",
    "model.load_state_dict(torch.load(MODEL_PATH))\n",
    "model.to(device)\n",
    "model.eval()\n",
    "\n",
    "# Dataset\n",
    "class SentimentDataset(Dataset):\n",
    "    def __init__(self, df):\n",
    "        self.texts = [preprocess_text(t) for t in df['text']]\n",
    "        self.labels = df['new_label'].tolist()\n",
    "\n",
    "    def __len__(self):\n",
    "        return len(self.labels)\n",
    "\n",
    "    def __getitem__(self, idx):\n",
    "        encoding = tokenizer(\n",
    "            self.texts[idx],\n",
    "            padding='max_length',\n",
    "            truncation=True,\n",
    "            max_length=MAX_LEN,\n",
    "            return_tensors=\"pt\"\n",
    "        )\n",
    "        item = {k: v.squeeze(0) for k, v in encoding.items()}\n",
    "        item['labels'] = torch.tensor(self.labels[idx], dtype=torch.long)\n",
    "        return item\n",
    "\n",
    "# Load test.csv\n",
    "df = pd.read_csv(\"data/aug/test.csv\").dropna(subset=[\"text\", \"new_label\"])\n",
    "test_dataset = SentimentDataset(df)\n",
    "test_loader = DataLoader(test_dataset, batch_size=BATCH_SIZE)\n",
    "\n",
    "# Dự đoán\n",
    "all_preds, all_labels = [], []\n",
    "with torch.no_grad():\n",
    "    for batch in test_loader:\n",
    "        batch = {k: v.to(device) for k, v in batch.items()}\n",
    "        outputs = model(**batch)\n",
    "        logits = outputs.logits\n",
    "        preds = torch.argmax(logits, dim=1)\n",
    "\n",
    "        all_preds.extend(preds.cpu().numpy())\n",
    "        all_labels.extend(batch[\"labels\"].cpu().numpy())\n",
    "\n",
    "# In kết quả\n",
    "print(classification_report(all_labels, all_preds, digits=4))"
   ]
  },
  {
   "cell_type": "code",
   "execution_count": 29,
   "id": "cec63d54",
   "metadata": {},
   "outputs": [
    {
     "name": "stderr",
     "output_type": "stream",
     "text": [
      "Applying preprocess_text to Train data: 100%|██████████| 18991/18991 [00:35<00:00, 540.09it/s]\n",
      "Applying preprocess_text to Validation data: 100%|██████████| 2713/2713 [00:04<00:00, 587.11it/s]\n",
      "Applying preprocess_text to Test data: 100%|██████████| 5427/5427 [00:09<00:00, 552.42it/s]\n"
     ]
    },
    {
     "name": "stdout",
     "output_type": "stream",
     "text": [
      "Training model...\n",
      "\n"
     ]
    },
    {
     "name": "stderr",
     "output_type": "stream",
     "text": [
      "Training Epochs:  20%|██        | 1/5 [00:23<01:32, 23.03s/epoch]"
     ]
    },
    {
     "name": "stdout",
     "output_type": "stream",
     "text": [
      "Epoch 1 - Validation F1 Score: 0.7714\n"
     ]
    },
    {
     "name": "stderr",
     "output_type": "stream",
     "text": [
      "Training Epochs:  40%|████      | 2/5 [00:44<01:06, 22.17s/epoch]"
     ]
    },
    {
     "name": "stdout",
     "output_type": "stream",
     "text": [
      "Epoch 2 - Validation F1 Score: 0.7714\n"
     ]
    },
    {
     "name": "stderr",
     "output_type": "stream",
     "text": [
      "Training Epochs:  60%|██████    | 3/5 [01:05<00:43, 21.56s/epoch]"
     ]
    },
    {
     "name": "stdout",
     "output_type": "stream",
     "text": [
      "Epoch 3 - Validation F1 Score: 0.7714\n"
     ]
    },
    {
     "name": "stderr",
     "output_type": "stream",
     "text": [
      "Training Epochs:  80%|████████  | 4/5 [01:26<00:21, 21.40s/epoch]"
     ]
    },
    {
     "name": "stdout",
     "output_type": "stream",
     "text": [
      "Epoch 4 - Validation F1 Score: 0.7714\n"
     ]
    },
    {
     "name": "stderr",
     "output_type": "stream",
     "text": [
      "Training Epochs: 100%|██████████| 5/5 [01:47<00:00, 21.48s/epoch]"
     ]
    },
    {
     "name": "stdout",
     "output_type": "stream",
     "text": [
      "Epoch 5 - Validation F1 Score: 0.7714\n",
      "Model saved to models/svm_model.pkl\n"
     ]
    },
    {
     "name": "stderr",
     "output_type": "stream",
     "text": [
      "\n"
     ]
    },
    {
     "name": "stdout",
     "output_type": "stream",
     "text": [
      "\n",
      "Test Classification Report:\n",
      "              precision    recall  f1-score   support\n",
      "\n",
      "           0     0.8607    0.8117    0.8355      3600\n",
      "           1     0.6663    0.7411    0.7017      1827\n",
      "\n",
      "    accuracy                         0.7879      5427\n",
      "   macro avg     0.7635    0.7764    0.7686      5427\n",
      "weighted avg     0.7953    0.7879    0.7904      5427\n",
      "\n"
     ]
    }
   ],
   "source": [
    "import pandas as pd\n",
    "from sklearn.feature_extraction.text import TfidfVectorizer\n",
    "from sklearn.svm import SVC\n",
    "from sklearn.metrics import classification_report, f1_score\n",
    "from sklearn.model_selection import train_test_split\n",
    "from tqdm import tqdm  # Để hiển thị tiến độ trong quá trình huấn luyện\n",
    "import joblib  # Để lưu và tải mô hình\n",
    "\n",
    "# Đọc dữ liệu\n",
    "train_df = pd.read_csv(\"data/aug/train.csv\")\n",
    "val_df = pd.read_csv(\"data/aug/val.csv\")\n",
    "test_df = pd.read_csv(\"data/aug/test.csv\")\n",
    "\n",
    "# Áp dụng tiền xử lý cho dữ liệu và theo dõi tiến độ\n",
    "tqdm.pandas(desc=\"Applying preprocess_text to Train data\")\n",
    "train_df['text'] = train_df['text'].progress_apply(lambda x: preprocess_text(x))  # Áp dụng tiền xử lý cho dữ liệu train\n",
    "\n",
    "tqdm.pandas(desc=\"Applying preprocess_text to Validation data\")\n",
    "val_df['text'] = val_df['text'].progress_apply(lambda x: preprocess_text(x))      # Áp dụng tiền xử lý cho dữ liệu validation\n",
    "\n",
    "tqdm.pandas(desc=\"Applying preprocess_text to Test data\")\n",
    "test_df['text'] = test_df['text'].progress_apply(lambda x: preprocess_text(x))    # Áp dụng tiền xử lý cho dữ liệu test\n",
    "\n",
    "# Chia dữ liệu train và validation\n",
    "X_train = train_df['text']\n",
    "y_train = train_df['new_label']\n",
    "X_val = val_df['text']\n",
    "y_val = val_df['new_label']\n",
    "X_test = test_df['text']\n",
    "y_test = test_df['new_label']\n",
    "\n",
    "# Biến đổi văn bản thành vector sử dụng TfidfVectorizer\n",
    "vectorizer = TfidfVectorizer(max_features=5000, ngram_range=(1, 2))  # Tạo vector từ 1-gram và 2-gram\n",
    "\n",
    "X_train_tfidf = vectorizer.fit_transform(X_train)\n",
    "X_val_tfidf = vectorizer.transform(X_val)\n",
    "X_test_tfidf = vectorizer.transform(X_test)\n",
    "\n",
    "# Khởi tạo mô hình SVM\n",
    "svm_model = SVC(kernel='linear', class_weight='balanced')  # class_weight='balanced' giúp cân bằng giữa các lớp\n",
    "\n",
    "# Huấn luyện mô hình SVM và hiển thị tiến độ\n",
    "print(\"Training model...\\n\")\n",
    "for epoch in tqdm(range(5), desc=\"Training Epochs\", unit=\"epoch\"):\n",
    "    svm_model.fit(X_train_tfidf, y_train)\n",
    "\n",
    "    # Dự đoán trên tập validation\n",
    "    val_preds = svm_model.predict(X_val_tfidf)\n",
    "    val_f1 = f1_score(y_val, val_preds, average='macro')\n",
    "    print(f\"Epoch {epoch + 1} - Validation F1 Score: {val_f1:.4f}\")\n",
    "\n",
    "# Lưu mô hình sau khi huấn luyện\n",
    "model_filename = \"models/svm_model.pkl\"\n",
    "joblib.dump(svm_model, model_filename)\n",
    "print(f\"Model saved to {model_filename}\")\n",
    "\n",
    "# Dự đoán trên tập test\n",
    "test_preds = svm_model.predict(X_test_tfidf)\n",
    "\n",
    "# Đánh giá kết quả\n",
    "print(\"\\nTest Classification Report:\")\n",
    "print(classification_report(y_test, test_preds, digits=4))"
   ]
  },
  {
   "cell_type": "code",
   "execution_count": 30,
   "id": "2ca39d0f",
   "metadata": {},
   "outputs": [
    {
     "name": "stdout",
     "output_type": "stream",
     "text": [
      "              precision    recall  f1-score   support\n",
      "\n",
      "           0     0.8258    0.8822    0.8531      3600\n",
      "           1     0.7318    0.6333    0.6790      1827\n",
      "\n",
      "    accuracy                         0.7984      5427\n",
      "   macro avg     0.7788    0.7578    0.7660      5427\n",
      "weighted avg     0.7942    0.7984    0.7945      5427\n",
      "\n"
     ]
    }
   ],
   "source": [
    "from nb import train, test\n",
    "\n",
    "train_df = pd.read_csv(\"data/aug/train.csv\")\n",
    "test_df = pd.read_csv(\"data/aug/test.csv\")\n",
    "\n",
    "# Huấn luyện mô hình\n",
    "model, vectorizer = train(train_df)\n",
    "\n",
    "# Dự đoán trên tập kiểm tra\n",
    "preds, labels = test(model, vectorizer, test_df)"
   ]
  }
 ],
 "metadata": {
  "kernelspec": {
   "display_name": "Python 3",
   "language": "python",
   "name": "python3"
  },
  "language_info": {
   "codemirror_mode": {
    "name": "ipython",
    "version": 3
   },
   "file_extension": ".py",
   "mimetype": "text/x-python",
   "name": "python",
   "nbconvert_exporter": "python",
   "pygments_lexer": "ipython3",
   "version": "3.11.9"
  }
 },
 "nbformat": 4,
 "nbformat_minor": 5
}
